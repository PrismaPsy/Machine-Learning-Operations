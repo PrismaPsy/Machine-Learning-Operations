{
 "cells": [
  {
   "cell_type": "markdown",
   "metadata": {},
   "source": [
    "# PASO 0: Importar bibliotecas y leer datos"
   ]
  },
  {
   "cell_type": "code",
   "execution_count": 1,
   "metadata": {},
   "outputs": [],
   "source": [
    "import pandas as pd"
   ]
  },
  {
   "cell_type": "code",
   "execution_count": 2,
   "metadata": {},
   "outputs": [],
   "source": [
    "# Ruta del diccionario de datos.\n",
    "rt_dicc = 'Diccionario de Datos STEAM.xlsx'\n",
    "\n",
    "# Carga del diccionario de datos.\n",
    "dicc = pd.read_excel(rt_dicc)"
   ]
  },
  {
   "cell_type": "code",
   "execution_count": 3,
   "metadata": {},
   "outputs": [
    {
     "data": {
      "text/html": [
       "<div>\n",
       "<style scoped>\n",
       "    .dataframe tbody tr th:only-of-type {\n",
       "        vertical-align: middle;\n",
       "    }\n",
       "\n",
       "    .dataframe tbody tr th {\n",
       "        vertical-align: top;\n",
       "    }\n",
       "\n",
       "    .dataframe thead th {\n",
       "        text-align: right;\n",
       "    }\n",
       "</style>\n",
       "<table border=\"1\" class=\"dataframe\">\n",
       "  <thead>\n",
       "    <tr style=\"text-align: right;\">\n",
       "      <th></th>\n",
       "      <th>Columna</th>\n",
       "      <th>Descripción</th>\n",
       "      <th>Ejemplo</th>\n",
       "    </tr>\n",
       "  </thead>\n",
       "  <tbody>\n",
       "    <tr>\n",
       "      <th>0</th>\n",
       "      <td>publisher</td>\n",
       "      <td>Empresa publicadora del contenido</td>\n",
       "      <td>[Ubisoft,Dovetail Games - Trains,Degica]</td>\n",
       "    </tr>\n",
       "    <tr>\n",
       "      <th>1</th>\n",
       "      <td>genres</td>\n",
       "      <td>Genero del contenido</td>\n",
       "      <td>[Action, Adventure, Racing, Simulation, Strategy]</td>\n",
       "    </tr>\n",
       "    <tr>\n",
       "      <th>2</th>\n",
       "      <td>app_name</td>\n",
       "      <td>Nombre del contenido</td>\n",
       "      <td>[Warzone, Soundtrack, Puzzle Blocks]</td>\n",
       "    </tr>\n",
       "    <tr>\n",
       "      <th>3</th>\n",
       "      <td>title</td>\n",
       "      <td>Titulo del contenido</td>\n",
       "      <td>[The Dream Machine: Chapter 4 , Fate/EXTELLA -...</td>\n",
       "    </tr>\n",
       "    <tr>\n",
       "      <th>4</th>\n",
       "      <td>url</td>\n",
       "      <td>URL de publicación del contenido</td>\n",
       "      <td>http://store.steampowered.com/app/761140/Lost_...</td>\n",
       "    </tr>\n",
       "  </tbody>\n",
       "</table>\n",
       "</div>"
      ],
      "text/plain": [
       "     Columna                        Descripción   \n",
       "0  publisher  Empresa publicadora del contenido  \\\n",
       "1     genres               Genero del contenido   \n",
       "2   app_name               Nombre del contenido   \n",
       "3      title               Titulo del contenido   \n",
       "4        url   URL de publicación del contenido   \n",
       "\n",
       "                                             Ejemplo  \n",
       "0           [Ubisoft,Dovetail Games - Trains,Degica]  \n",
       "1  [Action, Adventure, Racing, Simulation, Strategy]  \n",
       "2               [Warzone, Soundtrack, Puzzle Blocks]  \n",
       "3  [The Dream Machine: Chapter 4 , Fate/EXTELLA -...  \n",
       "4  http://store.steampowered.com/app/761140/Lost_...  "
      ]
     },
     "execution_count": 3,
     "metadata": {},
     "output_type": "execute_result"
    }
   ],
   "source": [
    "dicc.head()"
   ]
  }
 ],
 "metadata": {
  "kernelspec": {
   "display_name": "Python 3",
   "language": "python",
   "name": "python3"
  },
  "language_info": {
   "codemirror_mode": {
    "name": "ipython",
    "version": 3
   },
   "file_extension": ".py",
   "mimetype": "text/x-python",
   "name": "python",
   "nbconvert_exporter": "python",
   "pygments_lexer": "ipython3",
   "version": "3.11.3"
  },
  "orig_nbformat": 4
 },
 "nbformat": 4,
 "nbformat_minor": 2
}
